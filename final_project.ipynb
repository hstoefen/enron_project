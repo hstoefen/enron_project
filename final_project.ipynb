{
 "cells": [
  {
   "cell_type": "code",
   "execution_count": 1,
   "metadata": {},
   "outputs": [],
   "source": [
    "import pickle\n",
    "import my_tools\n",
    "import matplotlib.pyplot as plt\n",
    "\n",
    "%matplotlib inline"
   ]
  },
  {
   "cell_type": "markdown",
   "metadata": {},
   "source": [
    "# References\n",
    "Ref /1\n",
    "\n",
    "[Udacity Project Description](https://classroom.udacity.com/nanodegrees/nd002-airbus/parts/96af8ace-b538-440f-83e6-4cc6eb42caa5/modules/317428862475461/lessons/3174288624239847/concepts/31726388830923)\n",
    "\n",
    "Ref /2\n",
    "\n",
    "[Enron Email Corpus](https://www.cs.cmu.edu/~enron/)\n",
    "\n",
    "Ref /3\n",
    "\n",
    "[Sklearn Documentation](http://scikit-learn.org/stable/index.html)"
   ]
  },
  {
   "cell_type": "markdown",
   "metadata": {},
   "source": [
    "# Project Overview\n",
    "The goal of this project is to use machine learning techniques in order to identify persons of interest, who might have been involved in one of America's biggest fraud cases which is summarized below:\n",
    "\n",
    "\"In 2000, Enron was one of the largest companies in the United States. By 2002, it had collapsed into bankruptcy due to widespread corporate fraud. In the resulting Federal investigation, a significant amount of typically confidential information entered into the public record, including tens of thousands of emails and detailed financial data for top executives. In this project, you will play detective, and put your new skills to use by building a person of interest identifier based on financial and email data made public as a result of the Enron scandal. To assist you in your detective work, we've combined this data with a hand-generated list of persons of interest in the fraud case, which means individuals who were indicted, reached a settlement or plea deal with the government, or testified in exchange for prosecution immunity.\" (see Ref /1)\n",
    "\n",
    "This use case is particularly interesting to data analysts, because a big data set, containing email messages from Enron employees and related individuals has been made public during the court case which followed, when the fraud came to light. (see Ref /2)\n",
    "\n",
    "Part of this data set, enriched with financial information about some of the persons in the data set, was provided by Udacity for this project. The data is available in *final_project_dataset.pkl*.\n",
    "\n",
    "The steps taken in order to achieve the project goal are described in the following chapters. The approach is suggested during the Machine Learning module of the Udacity course and includes the following aspects:\n",
    "* Dataset/Questions\n",
    "* Features\n",
    "* Algorithms\n",
    "* Evaluations"
   ]
  },
  {
   "cell_type": "markdown",
   "metadata": {},
   "source": [
    "# Dataset\n",
    "The data set provided as *final_project_dataset.pkl* contains a Python dictionary. The dictionary has entries for a number of persons, for which the Enron email corpus and/or the financial data set contains entries."
   ]
  },
  {
   "cell_type": "markdown",
   "metadata": {},
   "source": [
    "## Statistics"
   ]
  },
  {
   "cell_type": "code",
   "execution_count": 2,
   "metadata": {},
   "outputs": [
    {
     "name": "stdout",
     "output_type": "stream",
     "text": [
      "Number of entries in data set:  146\n"
     ]
    }
   ],
   "source": [
    "with open(\"final_project_dataset.pkl\", \"r\") as data_file:\n",
    "    data_dict = pickle.load(data_file)\n",
    "\n",
    "entry_no = len(data_dict.keys())\n",
    "    \n",
    "print 'Number of entries in data set: ', entry_no"
   ]
  },
  {
   "cell_type": "markdown",
   "metadata": {},
   "source": [
    "The feature *email_address* is represented as string, all other features are numeric values. Statistics on the numerical features are shown below."
   ]
  },
  {
   "cell_type": "code",
   "execution_count": 3,
   "metadata": {
    "scrolled": true
   },
   "outputs": [
    {
     "data": {
      "text/html": [
       "<div>\n",
       "<style scoped>\n",
       "    .dataframe tbody tr th:only-of-type {\n",
       "        vertical-align: middle;\n",
       "    }\n",
       "\n",
       "    .dataframe tbody tr th {\n",
       "        vertical-align: top;\n",
       "    }\n",
       "\n",
       "    .dataframe thead th {\n",
       "        text-align: right;\n",
       "    }\n",
       "</style>\n",
       "<table border=\"1\" class=\"dataframe\">\n",
       "  <thead>\n",
       "    <tr style=\"text-align: right;\">\n",
       "      <th></th>\n",
       "      <th>available_no</th>\n",
       "      <th>available_pct</th>\n",
       "      <th>max</th>\n",
       "      <th>min</th>\n",
       "      <th>mean</th>\n",
       "      <th>median</th>\n",
       "    </tr>\n",
       "  </thead>\n",
       "  <tbody>\n",
       "    <tr>\n",
       "      <th>salary</th>\n",
       "      <td>95</td>\n",
       "      <td>65.07</td>\n",
       "      <td>26704229</td>\n",
       "      <td>477</td>\n",
       "      <td>562194</td>\n",
       "      <td>259996</td>\n",
       "    </tr>\n",
       "    <tr>\n",
       "      <th>to_messages</th>\n",
       "      <td>86</td>\n",
       "      <td>58.9</td>\n",
       "      <td>15149</td>\n",
       "      <td>57</td>\n",
       "      <td>2073.86</td>\n",
       "      <td>1211</td>\n",
       "    </tr>\n",
       "    <tr>\n",
       "      <th>deferral_payments</th>\n",
       "      <td>39</td>\n",
       "      <td>26.71</td>\n",
       "      <td>32083396</td>\n",
       "      <td>-102500</td>\n",
       "      <td>1.64267e+06</td>\n",
       "      <td>227449</td>\n",
       "    </tr>\n",
       "    <tr>\n",
       "      <th>total_payments</th>\n",
       "      <td>125</td>\n",
       "      <td>85.62</td>\n",
       "      <td>309886585</td>\n",
       "      <td>148</td>\n",
       "      <td>5.08153e+06</td>\n",
       "      <td>1.10139e+06</td>\n",
       "    </tr>\n",
       "    <tr>\n",
       "      <th>exercised_stock_options</th>\n",
       "      <td>102</td>\n",
       "      <td>69.86</td>\n",
       "      <td>311764000</td>\n",
       "      <td>3285</td>\n",
       "      <td>5.98705e+06</td>\n",
       "      <td>1.31081e+06</td>\n",
       "    </tr>\n",
       "    <tr>\n",
       "      <th>bonus</th>\n",
       "      <td>82</td>\n",
       "      <td>56.16</td>\n",
       "      <td>97343619</td>\n",
       "      <td>70000</td>\n",
       "      <td>2.37423e+06</td>\n",
       "      <td>769375</td>\n",
       "    </tr>\n",
       "    <tr>\n",
       "      <th>restricted_stock</th>\n",
       "      <td>110</td>\n",
       "      <td>75.34</td>\n",
       "      <td>130322299</td>\n",
       "      <td>-2604490</td>\n",
       "      <td>2.32174e+06</td>\n",
       "      <td>451740</td>\n",
       "    </tr>\n",
       "    <tr>\n",
       "      <th>shared_receipt_with_poi</th>\n",
       "      <td>86</td>\n",
       "      <td>58.9</td>\n",
       "      <td>5521</td>\n",
       "      <td>2</td>\n",
       "      <td>1176.47</td>\n",
       "      <td>740.5</td>\n",
       "    </tr>\n",
       "    <tr>\n",
       "      <th>restricted_stock_deferred</th>\n",
       "      <td>18</td>\n",
       "      <td>12.33</td>\n",
       "      <td>15456290</td>\n",
       "      <td>-7576788</td>\n",
       "      <td>166411</td>\n",
       "      <td>-146975</td>\n",
       "    </tr>\n",
       "    <tr>\n",
       "      <th>total_stock_value</th>\n",
       "      <td>126</td>\n",
       "      <td>86.3</td>\n",
       "      <td>434509511</td>\n",
       "      <td>-44093</td>\n",
       "      <td>6.77396e+06</td>\n",
       "      <td>1.10287e+06</td>\n",
       "    </tr>\n",
       "    <tr>\n",
       "      <th>expenses</th>\n",
       "      <td>95</td>\n",
       "      <td>65.07</td>\n",
       "      <td>5235198</td>\n",
       "      <td>148</td>\n",
       "      <td>108729</td>\n",
       "      <td>46950</td>\n",
       "    </tr>\n",
       "    <tr>\n",
       "      <th>loan_advances</th>\n",
       "      <td>4</td>\n",
       "      <td>2.74</td>\n",
       "      <td>83925000</td>\n",
       "      <td>400000</td>\n",
       "      <td>4.19625e+07</td>\n",
       "      <td>4.17625e+07</td>\n",
       "    </tr>\n",
       "    <tr>\n",
       "      <th>from_messages</th>\n",
       "      <td>86</td>\n",
       "      <td>58.9</td>\n",
       "      <td>14368</td>\n",
       "      <td>12</td>\n",
       "      <td>608.791</td>\n",
       "      <td>41</td>\n",
       "    </tr>\n",
       "    <tr>\n",
       "      <th>other</th>\n",
       "      <td>93</td>\n",
       "      <td>63.7</td>\n",
       "      <td>42667589</td>\n",
       "      <td>2</td>\n",
       "      <td>919065</td>\n",
       "      <td>52382</td>\n",
       "    </tr>\n",
       "    <tr>\n",
       "      <th>from_this_person_to_poi</th>\n",
       "      <td>86</td>\n",
       "      <td>58.9</td>\n",
       "      <td>609</td>\n",
       "      <td>0</td>\n",
       "      <td>41.2326</td>\n",
       "      <td>8</td>\n",
       "    </tr>\n",
       "    <tr>\n",
       "      <th>director_fees</th>\n",
       "      <td>17</td>\n",
       "      <td>11.64</td>\n",
       "      <td>1398517</td>\n",
       "      <td>3285</td>\n",
       "      <td>166805</td>\n",
       "      <td>108579</td>\n",
       "    </tr>\n",
       "    <tr>\n",
       "      <th>deferred_income</th>\n",
       "      <td>49</td>\n",
       "      <td>33.56</td>\n",
       "      <td>-833</td>\n",
       "      <td>-27992891</td>\n",
       "      <td>-1.14048e+06</td>\n",
       "      <td>-159792</td>\n",
       "    </tr>\n",
       "    <tr>\n",
       "      <th>long_term_incentive</th>\n",
       "      <td>66</td>\n",
       "      <td>45.21</td>\n",
       "      <td>48521928</td>\n",
       "      <td>69223</td>\n",
       "      <td>1.47036e+06</td>\n",
       "      <td>442035</td>\n",
       "    </tr>\n",
       "    <tr>\n",
       "      <th>from_poi_to_this_person</th>\n",
       "      <td>86</td>\n",
       "      <td>58.9</td>\n",
       "      <td>528</td>\n",
       "      <td>0</td>\n",
       "      <td>64.8953</td>\n",
       "      <td>35</td>\n",
       "    </tr>\n",
       "  </tbody>\n",
       "</table>\n",
       "</div>"
      ],
      "text/plain": [
       "                          available_no available_pct        max        min  \\\n",
       "salary                              95         65.07   26704229        477   \n",
       "to_messages                         86          58.9      15149         57   \n",
       "deferral_payments                   39         26.71   32083396    -102500   \n",
       "total_payments                     125         85.62  309886585        148   \n",
       "exercised_stock_options            102         69.86  311764000       3285   \n",
       "bonus                               82         56.16   97343619      70000   \n",
       "restricted_stock                   110         75.34  130322299   -2604490   \n",
       "shared_receipt_with_poi             86          58.9       5521          2   \n",
       "restricted_stock_deferred           18         12.33   15456290   -7576788   \n",
       "total_stock_value                  126          86.3  434509511     -44093   \n",
       "expenses                            95         65.07    5235198        148   \n",
       "loan_advances                        4          2.74   83925000     400000   \n",
       "from_messages                       86          58.9      14368         12   \n",
       "other                               93          63.7   42667589          2   \n",
       "from_this_person_to_poi             86          58.9        609          0   \n",
       "director_fees                       17         11.64    1398517       3285   \n",
       "deferred_income                     49         33.56       -833  -27992891   \n",
       "long_term_incentive                 66         45.21   48521928      69223   \n",
       "from_poi_to_this_person             86          58.9        528          0   \n",
       "\n",
       "                                  mean       median  \n",
       "salary                          562194       259996  \n",
       "to_messages                    2073.86         1211  \n",
       "deferral_payments          1.64267e+06       227449  \n",
       "total_payments             5.08153e+06  1.10139e+06  \n",
       "exercised_stock_options    5.98705e+06  1.31081e+06  \n",
       "bonus                      2.37423e+06       769375  \n",
       "restricted_stock           2.32174e+06       451740  \n",
       "shared_receipt_with_poi        1176.47        740.5  \n",
       "restricted_stock_deferred       166411      -146975  \n",
       "total_stock_value          6.77396e+06  1.10287e+06  \n",
       "expenses                        108729        46950  \n",
       "loan_advances              4.19625e+07  4.17625e+07  \n",
       "from_messages                  608.791           41  \n",
       "other                           919065        52382  \n",
       "from_this_person_to_poi        41.2326            8  \n",
       "director_fees                   166805       108579  \n",
       "deferred_income           -1.14048e+06      -159792  \n",
       "long_term_incentive        1.47036e+06       442035  \n",
       "from_poi_to_this_person        64.8953           35  "
      ]
     },
     "execution_count": 3,
     "metadata": {},
     "output_type": "execute_result"
    }
   ],
   "source": [
    "feature_stats = my_tools.feature_stats(data_dict)\n",
    "feature_stats"
   ]
  },
  {
   "cell_type": "markdown",
   "metadata": {},
   "source": [
    "## Outliers\n",
    "A couple of the maxima seem too far off to be correct, especially when taking into account the big difference between median and mean values. A mean value much higher than the median is a sign of outliers. These could either be real values or errors in the data.\n",
    "\n",
    "As shown in the course material, there is an entry in the financial data for the total of all values, which needs to be removed. For the remainder of the values sigificant variation can be found. However, an outlier is defined as a deviation from an expected value. We do not know, what the expected values for most of the features might be. Therefore, I will not remove any further entries, as these might be relevant for the detection of persons of interest."
   ]
  },
  {
   "cell_type": "code",
   "execution_count": 4,
   "metadata": {},
   "outputs": [],
   "source": [
    "del data_dict['TOTAL']"
   ]
  },
  {
   "cell_type": "markdown",
   "metadata": {},
   "source": [
    "We can see from the statistics above, that the availability of the data is very different, depending on the feature.\n",
    "\n",
    "Total stock value is available for approximately 86 percent of the persons in the data set, whereas, the loan advances are available only for three percent.\n",
    "\n",
    "This will be of great importance later on during feature selection."
   ]
  },
  {
   "cell_type": "code",
   "execution_count": 5,
   "metadata": {
    "scrolled": true
   },
   "outputs": [
    {
     "data": {
      "image/png": "[encoded data removed]",
      "text/plain": [
       "<Figure size 432x288 with 1 Axes>"
      ]
     },
     "metadata": {},
     "output_type": "display_data"
    }
   ],
   "source": [
    "total_stock = [data_dict[person]['total_stock_value'] for person in data_dict.keys() if str(data_dict[person]['total_stock_value']) != 'NaN']\n",
    "\n",
    "plt.hist(total_stock)\n",
    "plt.title('Distribution of Total Stock Value')\n",
    "plt.xlabel('Total Stock Value in $')\n",
    "plt.ylabel('Frequency')\n",
    "plt.show()"
   ]
  },
  {
   "cell_type": "markdown",
   "metadata": {},
   "source": [
    "As can be seen from the plot above, the total stock value is heavily skewed to the left. However, as we are looking for persons of interest, who can be seen as a kind of outlier with regards to their finances, this is quite possible. "
   ]
  },
  {
   "cell_type": "markdown",
   "metadata": {},
   "source": [
    "# Features\n",
    "## New Feature\n",
    "Two new features containing the ratio between long term incentive and salary and long term incentive and bonus respectively will be created in order to determine if especially low long term incentives, when compared with salary or bonus is an indicator for involvement in the fraud:\n",
    "\n",
    "**long_term_incentive_vs_salary** = 100 - (long term incentive / salary)\n",
    "\n",
    "**long_term_incentive_vs_bonus** = 100 - (long term incentive / bonus)"
   ]
  },
  {
   "cell_type": "code",
   "execution_count": 6,
   "metadata": {},
   "outputs": [],
   "source": [
    "data_dict = my_tools.new_feature(data_dict)"
   ]
  },
  {
   "cell_type": "markdown",
   "metadata": {},
   "source": [
    "## Feature Reduction\n",
    "Several methods will be used for feature reduction.\n",
    "\n",
    "In a first step some of the obvious features are deselected. These are *poi*, because it is the label and *email_address*, because it is not numeric and corresponds to the persons names. This feature would be used, if we were to investigate the actual texts of the the emails, which we do not intend to do during this exercise."
   ]
  },
  {
   "cell_type": "code",
   "execution_count": 7,
   "metadata": {},
   "outputs": [],
   "source": [
    "feature_stats = my_tools.feature_stats(data_dict)\n",
    "features_list = ['poi'] + list(feature_stats.index)"
   ]
  },
  {
   "cell_type": "markdown",
   "metadata": {},
   "source": [
    "In a second step, features are deselected, because of low data availability. In order to do this, we need to know the number of POIs in the data set:"
   ]
  },
  {
   "cell_type": "code",
   "execution_count": 8,
   "metadata": {},
   "outputs": [
    {
     "name": "stdout",
     "output_type": "stream",
     "text": [
      "Number of POIs in data set:  18\n"
     ]
    }
   ],
   "source": [
    "poi_no = len([data_dict[person] for person in data_dict.keys() if data_dict[person]['poi'] == 1])\n",
    "print 'Number of POIs in data set: ', poi_no"
   ]
  },
  {
   "cell_type": "markdown",
   "metadata": {},
   "source": [
    "Let's assume a train/test split of three to one for the purpose of this investigation. If we consider two as the minimum number of POIs in the test data set, we will need an average number of eight POIs or"
   ]
  },
  {
   "cell_type": "code",
   "execution_count": 9,
   "metadata": {},
   "outputs": [
    {
     "name": "stdout",
     "output_type": "stream",
     "text": [
      "44.0 %\n"
     ]
    }
   ],
   "source": [
    "print round(8/18.0,2) * 100, '%'"
   ]
  },
  {
   "cell_type": "markdown",
   "metadata": {},
   "source": [
    "available for the investigation. Therefore, the minimum number of entries for each individual feature would be"
   ]
  },
  {
   "cell_type": "code",
   "execution_count": 10,
   "metadata": {},
   "outputs": [
    {
     "name": "stdout",
     "output_type": "stream",
     "text": [
      "64\n"
     ]
    }
   ],
   "source": [
    "print int(8/18.0 * entry_no)"
   ]
  },
  {
   "cell_type": "markdown",
   "metadata": {},
   "source": [
    "The following features are therefore deselected:"
   ]
  },
  {
   "cell_type": "code",
   "execution_count": 11,
   "metadata": {
    "scrolled": false
   },
   "outputs": [
    {
     "data": {
      "text/html": [
       "<div>\n",
       "<style scoped>\n",
       "    .dataframe tbody tr th:only-of-type {\n",
       "        vertical-align: middle;\n",
       "    }\n",
       "\n",
       "    .dataframe tbody tr th {\n",
       "        vertical-align: top;\n",
       "    }\n",
       "\n",
       "    .dataframe thead th {\n",
       "        text-align: right;\n",
       "    }\n",
       "</style>\n",
       "<table border=\"1\" class=\"dataframe\">\n",
       "  <thead>\n",
       "    <tr style=\"text-align: right;\">\n",
       "      <th></th>\n",
       "      <th>available_no</th>\n",
       "      <th>available_pct</th>\n",
       "      <th>max</th>\n",
       "      <th>min</th>\n",
       "      <th>mean</th>\n",
       "      <th>median</th>\n",
       "    </tr>\n",
       "  </thead>\n",
       "  <tbody>\n",
       "    <tr>\n",
       "      <th>deferral_payments</th>\n",
       "      <td>38</td>\n",
       "      <td>26.21</td>\n",
       "      <td>6426990</td>\n",
       "      <td>-102500</td>\n",
       "      <td>841603</td>\n",
       "      <td>221064</td>\n",
       "    </tr>\n",
       "    <tr>\n",
       "      <th>deferred_income</th>\n",
       "      <td>48</td>\n",
       "      <td>33.1</td>\n",
       "      <td>-833</td>\n",
       "      <td>-3504386</td>\n",
       "      <td>-581050</td>\n",
       "      <td>-151927</td>\n",
       "    </tr>\n",
       "    <tr>\n",
       "      <th>restricted_stock_deferred</th>\n",
       "      <td>17</td>\n",
       "      <td>11.72</td>\n",
       "      <td>15456290</td>\n",
       "      <td>-1787380</td>\n",
       "      <td>621893</td>\n",
       "      <td>-140264</td>\n",
       "    </tr>\n",
       "    <tr>\n",
       "      <th>loan_advances</th>\n",
       "      <td>3</td>\n",
       "      <td>2.07</td>\n",
       "      <td>81525000</td>\n",
       "      <td>400000</td>\n",
       "      <td>2.7975e+07</td>\n",
       "      <td>2e+06</td>\n",
       "    </tr>\n",
       "    <tr>\n",
       "      <th>long_term_incentive_vs_bonus</th>\n",
       "      <td>57</td>\n",
       "      <td>39.31</td>\n",
       "      <td>99.9593</td>\n",
       "      <td>88.8261</td>\n",
       "      <td>99.0796</td>\n",
       "      <td>99.3846</td>\n",
       "    </tr>\n",
       "    <tr>\n",
       "      <th>director_fees</th>\n",
       "      <td>16</td>\n",
       "      <td>11.03</td>\n",
       "      <td>137864</td>\n",
       "      <td>3285</td>\n",
       "      <td>89822.9</td>\n",
       "      <td>106164</td>\n",
       "    </tr>\n",
       "  </tbody>\n",
       "</table>\n",
       "</div>"
      ],
      "text/plain": [
       "                             available_no available_pct       max       min  \\\n",
       "deferral_payments                      38         26.21   6426990   -102500   \n",
       "deferred_income                        48          33.1      -833  -3504386   \n",
       "restricted_stock_deferred              17         11.72  15456290  -1787380   \n",
       "loan_advances                           3          2.07  81525000    400000   \n",
       "long_term_incentive_vs_bonus           57         39.31   99.9593   88.8261   \n",
       "director_fees                          16         11.03    137864      3285   \n",
       "\n",
       "                                    mean   median  \n",
       "deferral_payments                 841603   221064  \n",
       "deferred_income                  -581050  -151927  \n",
       "restricted_stock_deferred         621893  -140264  \n",
       "loan_advances                 2.7975e+07    2e+06  \n",
       "long_term_incentive_vs_bonus     99.0796  99.3846  \n",
       "director_fees                    89822.9   106164  "
      ]
     },
     "execution_count": 11,
     "metadata": {},
     "output_type": "execute_result"
    }
   ],
   "source": [
    "feature_availability_low = feature_stats[feature_stats['available_no'] < 64]\n",
    "feature_availability_low"
   ]
  },
  {
   "cell_type": "code",
   "execution_count": 12,
   "metadata": {
    "scrolled": true
   },
   "outputs": [
    {
     "data": {
      "text/plain": [
       "['poi',\n",
       " 'to_messages',\n",
       " 'expenses',\n",
       " 'long_term_incentive',\n",
       " 'shared_receipt_with_poi',\n",
       " 'from_messages',\n",
       " 'other',\n",
       " 'bonus',\n",
       " 'total_stock_value',\n",
       " 'from_poi_to_this_person',\n",
       " 'long_term_incentive_vs_salary',\n",
       " 'from_this_person_to_poi',\n",
       " 'restricted_stock',\n",
       " 'salary',\n",
       " 'total_payments',\n",
       " 'exercised_stock_options']"
      ]
     },
     "execution_count": 12,
     "metadata": {},
     "output_type": "execute_result"
    }
   ],
   "source": [
    "for feature in feature_availability_low.index:\n",
    "    features_list.remove(feature)\n",
    "    \n",
    "features_list"
   ]
  },
  {
   "cell_type": "code",
   "execution_count": 13,
   "metadata": {},
   "outputs": [
    {
     "name": "stdout",
     "output_type": "stream",
     "text": [
      "Number of features to be investigated:  15\n"
     ]
    }
   ],
   "source": [
    "# poi is disregarded, as this is the label\n",
    "print 'Number of features to be investigated: ', len(features_list[1:])"
   ]
  },
  {
   "cell_type": "markdown",
   "metadata": {},
   "source": [
    "## SelectKBest\n",
    "In this chapter, a ranking of the remaining features is built, based on SelectKBest. The features with the highest scores will be added first, when assessing the performance of the algorithms in the next chapter."
   ]
  },
  {
   "cell_type": "code",
   "execution_count": 14,
   "metadata": {
    "scrolled": true
   },
   "outputs": [
    {
     "data": {
      "text/html": [
       "<div>\n",
       "<style scoped>\n",
       "    .dataframe tbody tr th:only-of-type {\n",
       "        vertical-align: middle;\n",
       "    }\n",
       "\n",
       "    .dataframe tbody tr th {\n",
       "        vertical-align: top;\n",
       "    }\n",
       "\n",
       "    .dataframe thead th {\n",
       "        text-align: right;\n",
       "    }\n",
       "</style>\n",
       "<table border=\"1\" class=\"dataframe\">\n",
       "  <thead>\n",
       "    <tr style=\"text-align: right;\">\n",
       "      <th></th>\n",
       "      <th>scores</th>\n",
       "    </tr>\n",
       "  </thead>\n",
       "  <tbody>\n",
       "    <tr>\n",
       "      <th>exercised_stock_options</th>\n",
       "      <td>25.097542</td>\n",
       "    </tr>\n",
       "    <tr>\n",
       "      <th>total_stock_value</th>\n",
       "      <td>24.467654</td>\n",
       "    </tr>\n",
       "    <tr>\n",
       "      <th>bonus</th>\n",
       "      <td>21.060002</td>\n",
       "    </tr>\n",
       "    <tr>\n",
       "      <th>salary</th>\n",
       "      <td>18.575703</td>\n",
       "    </tr>\n",
       "    <tr>\n",
       "      <th>long_term_incentive</th>\n",
       "      <td>10.072455</td>\n",
       "    </tr>\n",
       "    <tr>\n",
       "      <th>restricted_stock</th>\n",
       "      <td>9.346701</td>\n",
       "    </tr>\n",
       "    <tr>\n",
       "      <th>total_payments</th>\n",
       "      <td>8.866722</td>\n",
       "    </tr>\n",
       "    <tr>\n",
       "      <th>shared_receipt_with_poi</th>\n",
       "      <td>8.746486</td>\n",
       "    </tr>\n",
       "    <tr>\n",
       "      <th>expenses</th>\n",
       "      <td>6.234201</td>\n",
       "    </tr>\n",
       "    <tr>\n",
       "      <th>from_poi_to_this_person</th>\n",
       "      <td>5.344942</td>\n",
       "    </tr>\n",
       "    <tr>\n",
       "      <th>long_term_incentive_vs_salary</th>\n",
       "      <td>4.298359</td>\n",
       "    </tr>\n",
       "    <tr>\n",
       "      <th>other</th>\n",
       "      <td>4.204971</td>\n",
       "    </tr>\n",
       "    <tr>\n",
       "      <th>from_this_person_to_poi</th>\n",
       "      <td>2.426508</td>\n",
       "    </tr>\n",
       "    <tr>\n",
       "      <th>to_messages</th>\n",
       "      <td>1.698824</td>\n",
       "    </tr>\n",
       "    <tr>\n",
       "      <th>from_messages</th>\n",
       "      <td>0.164164</td>\n",
       "    </tr>\n",
       "  </tbody>\n",
       "</table>\n",
       "</div>"
      ],
      "text/plain": [
       "                                  scores\n",
       "exercised_stock_options        25.097542\n",
       "total_stock_value              24.467654\n",
       "bonus                          21.060002\n",
       "salary                         18.575703\n",
       "long_term_incentive            10.072455\n",
       "restricted_stock                9.346701\n",
       "total_payments                  8.866722\n",
       "shared_receipt_with_poi         8.746486\n",
       "expenses                        6.234201\n",
       "from_poi_to_this_person         5.344942\n",
       "long_term_incentive_vs_salary   4.298359\n",
       "other                           4.204971\n",
       "from_this_person_to_poi         2.426508\n",
       "to_messages                     1.698824\n",
       "from_messages                   0.164164"
      ]
     },
     "execution_count": 14,
     "metadata": {},
     "output_type": "execute_result"
    }
   ],
   "source": [
    "best_features = my_tools.best_features(data_dict, features_list)\n",
    "best_features"
   ]
  },
  {
   "cell_type": "code",
   "execution_count": 15,
   "metadata": {},
   "outputs": [
    {
     "data": {
      "text/plain": [
       "['poi',\n",
       " 'exercised_stock_options',\n",
       " 'total_stock_value',\n",
       " 'bonus',\n",
       " 'salary',\n",
       " 'long_term_incentive',\n",
       " 'restricted_stock',\n",
       " 'total_payments',\n",
       " 'shared_receipt_with_poi',\n",
       " 'expenses',\n",
       " 'from_poi_to_this_person',\n",
       " 'long_term_incentive_vs_salary',\n",
       " 'other',\n",
       " 'from_this_person_to_poi',\n",
       " 'to_messages',\n",
       " 'from_messages']"
      ]
     },
     "execution_count": 15,
     "metadata": {},
     "output_type": "execute_result"
    }
   ],
   "source": [
    "# sorting of features according to their importance according to SelectKBest\n",
    "features_list = ['poi'] + list(best_features.index)\n",
    "features_list"
   ]
  },
  {
   "cell_type": "markdown",
   "metadata": {},
   "source": [
    "## Rescaling\n",
    "Rescaling is only needed for algorithms that rely on distances or similarities, like SVM or K-NN, but not for algorithms based on graphical or logical models, like Naive Bayes or Decision Tree. Therefore, rescaling will be carried out only for the classifiers, where it is needed. I create a rescaled data dict using min/max rescaling. This means, all feature values will be transformed to values between zero and one."
   ]
  },
  {
   "cell_type": "markdown",
   "metadata": {},
   "source": [
    "# Algorithms Selection and Evaluation\n",
    "All classifiers are tuned using the feature scores found during feature selection with SelectKBest. Features are added starting with the highest scores. Every time the classifier is run on the data, accuracy, precision, recall and F1-score are determined using an adapted my_tester.py based on the provided tester.py. Execution times were recorded in order to assess performance.\n",
    "\n",
    "Evaluating the scores as described above is useful in order to determine the most useful classifier and parameter setting for the task at hand. If we wanted to find as many POIs as possible we would emphasize **recall**. If we wanted to make sure, that nobody gets falsely accused of being involved in the fraud, we would emphasize **precision**. Maximising the **F1-score** would give us a good balance of both these objectives.\n",
    "\n",
    "One of the most common mistakes in machine learning is overfitting. One result of overfitting may be that a classifier works really well on known data, but has poor performance on unseen data. One way to overcome this problem is the use of cross validation. The provided tester.py uses an sklearn package called StratifiedShuffleSplit, which randomly creates splits of training and testing data and reports average scores for all of these splits.\n",
    "\n",
    "## Definition of Scores\n",
    "**total_predictions** = true_negatives + false_negatives + false_positives + true_positives\n",
    "\n",
    "i.e. how many predictions were made in total during execution of the StratifiedShuffleSplit\n",
    "\n",
    "**accuracy** = (true_positives + true_negatives) / total_predictions\n",
    "\n",
    "i.e. what proportion of predictions was correct for the test data\n",
    "\n",
    "**precision** = true_positives / (true_positives + false_positives)\n",
    "\n",
    "i.e. what proportion of the reported POIs were actually labeled POIs in the original data set\n",
    "\n",
    "**recall** = true_positives / (true_positives + false_negatives)\n",
    "\n",
    "i.e. what proportion of labeled POIs was actually reported as POI\n",
    "\n",
    "**F1** = 2 \\* (precision * recall) / (precision + recall)\n",
    "\n",
    "i.e. a weighted average of precision and recall (see sklearn documentation)"
   ]
  },
  {
   "cell_type": "markdown",
   "metadata": {},
   "source": [
    "## Naive Bayes\n",
    "The Naive Bayes classifier does not have any other tuneable parameters other than the a priori probabilities. As these are not known, the standard settings are used.\n",
    "\n",
    "No rescaling of the data is needed for this classifier, as it is of the graphical type and does not rely on distances between features."
   ]
  },
  {
   "cell_type": "code",
   "execution_count": 16,
   "metadata": {},
   "outputs": [
    {
     "name": "stderr",
     "output_type": "stream",
     "text": [
      "C:\\Users\\Henning\\Anaconda2\\lib\\site-packages\\sklearn\\cross_validation.py:41: DeprecationWarning: This module was deprecated in version 0.18 in favor of the model_selection module into which all the refactored classes and functions are moved. Also note that the interface of the new CV iterators are different from that of this module. This module will be removed in 0.20.\n",
      "  \"This module will be removed in 0.20.\", DeprecationWarning)\n"
     ]
    },
    {
     "name": "stdout",
     "output_type": "stream",
     "text": [
      "GaussianNB(priors=None)\n"
     ]
    },
    {
     "data": {
      "text/html": [
       "<table border=\"1\" class=\"dataframe\">\n",
       "  <thead>\n",
       "    <tr style=\"text-align: right;\">\n",
       "      <th>features used</th>\n",
       "      <th>total predictions</th>\n",
       "      <th>accuracy</th>\n",
       "      <th>precision</th>\n",
       "      <th>recall</th>\n",
       "      <th>F1</th>\n",
       "    </tr>\n",
       "  </thead>\n",
       "  <tbody>\n",
       "    <tr>\n",
       "      <td>1</td>\n",
       "      <td>11000</td>\n",
       "      <td>0.904091</td>\n",
       "      <td>0.460545</td>\n",
       "      <td>0.3210</td>\n",
       "      <td>0.378315</td>\n",
       "    </tr>\n",
       "    <tr>\n",
       "      <td>2</td>\n",
       "      <td>13000</td>\n",
       "      <td>0.840692</td>\n",
       "      <td>0.468887</td>\n",
       "      <td>0.2675</td>\n",
       "      <td>0.340656</td>\n",
       "    </tr>\n",
       "    <tr>\n",
       "      <td>3</td>\n",
       "      <td>13000</td>\n",
       "      <td>0.843000</td>\n",
       "      <td>0.485813</td>\n",
       "      <td>0.3510</td>\n",
       "      <td>0.407547</td>\n",
       "    </tr>\n",
       "    <tr>\n",
       "      <td>4</td>\n",
       "      <td>13000</td>\n",
       "      <td>0.846769</td>\n",
       "      <td>0.503115</td>\n",
       "      <td>0.3230</td>\n",
       "      <td>0.393423</td>\n",
       "    </tr>\n",
       "    <tr>\n",
       "      <td>5</td>\n",
       "      <td>13000</td>\n",
       "      <td>0.837231</td>\n",
       "      <td>0.457478</td>\n",
       "      <td>0.3120</td>\n",
       "      <td>0.370987</td>\n",
       "    </tr>\n",
       "    <tr>\n",
       "      <td>6</td>\n",
       "      <td>14000</td>\n",
       "      <td>0.845643</td>\n",
       "      <td>0.444136</td>\n",
       "      <td>0.3200</td>\n",
       "      <td>0.371985</td>\n",
       "    </tr>\n",
       "    <tr>\n",
       "      <td>7</td>\n",
       "      <td>15000</td>\n",
       "      <td>0.841600</td>\n",
       "      <td>0.361357</td>\n",
       "      <td>0.2450</td>\n",
       "      <td>0.292014</td>\n",
       "    </tr>\n",
       "    <tr>\n",
       "      <td>8</td>\n",
       "      <td>15000</td>\n",
       "      <td>0.840467</td>\n",
       "      <td>0.351474</td>\n",
       "      <td>0.2325</td>\n",
       "      <td>0.279868</td>\n",
       "    </tr>\n",
       "    <tr>\n",
       "      <td>9</td>\n",
       "      <td>15000</td>\n",
       "      <td>0.838600</td>\n",
       "      <td>0.343727</td>\n",
       "      <td>0.2315</td>\n",
       "      <td>0.276666</td>\n",
       "    </tr>\n",
       "    <tr>\n",
       "      <td>10</td>\n",
       "      <td>15000</td>\n",
       "      <td>0.838733</td>\n",
       "      <td>0.344469</td>\n",
       "      <td>0.2320</td>\n",
       "      <td>0.277263</td>\n",
       "    </tr>\n",
       "    <tr>\n",
       "      <td>11</td>\n",
       "      <td>15000</td>\n",
       "      <td>0.838467</td>\n",
       "      <td>0.343217</td>\n",
       "      <td>0.2315</td>\n",
       "      <td>0.276500</td>\n",
       "    </tr>\n",
       "    <tr>\n",
       "      <td>12</td>\n",
       "      <td>15000</td>\n",
       "      <td>0.838600</td>\n",
       "      <td>0.331735</td>\n",
       "      <td>0.2075</td>\n",
       "      <td>0.255306</td>\n",
       "    </tr>\n",
       "    <tr>\n",
       "      <td>13</td>\n",
       "      <td>15000</td>\n",
       "      <td>0.838600</td>\n",
       "      <td>0.330924</td>\n",
       "      <td>0.2060</td>\n",
       "      <td>0.253929</td>\n",
       "    </tr>\n",
       "    <tr>\n",
       "      <td>14</td>\n",
       "      <td>15000</td>\n",
       "      <td>0.833667</td>\n",
       "      <td>0.308880</td>\n",
       "      <td>0.2000</td>\n",
       "      <td>0.242792</td>\n",
       "    </tr>\n",
       "    <tr>\n",
       "      <td>15</td>\n",
       "      <td>15000</td>\n",
       "      <td>0.834733</td>\n",
       "      <td>0.311566</td>\n",
       "      <td>0.1980</td>\n",
       "      <td>0.242128</td>\n",
       "    </tr>\n",
       "  </tbody>\n",
       "</table>"
      ],
      "text/plain": [
       "<IPython.core.display.HTML object>"
      ]
     },
     "metadata": {},
     "output_type": "display_data"
    },
    {
     "name": "stdout",
     "output_type": "stream",
     "text": [
      "execution time: 15.359 s\n"
     ]
    }
   ],
   "source": [
    "from sklearn.naive_bayes import GaussianNB\n",
    "clf = GaussianNB()  \n",
    "\n",
    "from time import time\n",
    "t0 = time()\n",
    "scores, features = my_tools.tune_k(data_dict, features_list, clf)\n",
    "\n",
    "print clf\n",
    "from IPython.display import display, HTML\n",
    "display(HTML(scores.to_html(index=False)))\n",
    "print \"execution time:\", round(time()-t0, 3), \"s\""
   ]
  },
  {
   "cell_type": "markdown",
   "metadata": {},
   "source": [
    "The best F1-score at approximately 0.41 is found, when using the top 3 features. Accuracy, precision and recall are really good, when compared to the other classifiers tested."
   ]
  },
  {
   "cell_type": "code",
   "execution_count": 17,
   "metadata": {},
   "outputs": [
    {
     "data": {
      "text/html": [
       "<div>\n",
       "<style scoped>\n",
       "    .dataframe tbody tr th:only-of-type {\n",
       "        vertical-align: middle;\n",
       "    }\n",
       "\n",
       "    .dataframe tbody tr th {\n",
       "        vertical-align: top;\n",
       "    }\n",
       "\n",
       "    .dataframe thead th {\n",
       "        text-align: right;\n",
       "    }\n",
       "</style>\n",
       "<table border=\"1\" class=\"dataframe\">\n",
       "  <thead>\n",
       "    <tr style=\"text-align: right;\">\n",
       "      <th></th>\n",
       "      <th>scores</th>\n",
       "    </tr>\n",
       "  </thead>\n",
       "  <tbody>\n",
       "    <tr>\n",
       "      <th>exercised_stock_options</th>\n",
       "      <td>25.097542</td>\n",
       "    </tr>\n",
       "    <tr>\n",
       "      <th>total_stock_value</th>\n",
       "      <td>24.467654</td>\n",
       "    </tr>\n",
       "    <tr>\n",
       "      <th>bonus</th>\n",
       "      <td>21.060002</td>\n",
       "    </tr>\n",
       "  </tbody>\n",
       "</table>\n",
       "</div>"
      ],
      "text/plain": [
       "                            scores\n",
       "exercised_stock_options  25.097542\n",
       "total_stock_value        24.467654\n",
       "bonus                    21.060002"
      ]
     },
     "execution_count": 17,
     "metadata": {},
     "output_type": "execute_result"
    }
   ],
   "source": [
    "best_features[:3]"
   ]
  },
  {
   "cell_type": "markdown",
   "metadata": {},
   "source": [
    "Precision and recall are both above 0.3 as required.\n",
    "\n",
    "The execution time is fasted, when compared to the other classifiers."
   ]
  },
  {
   "cell_type": "markdown",
   "metadata": {},
   "source": [
    "## Decision Tree\n",
    "No tuning of parameters other than the addition of features was carried out for this classifier, because the standard settings seemed reasonable for the task.\n",
    "\n",
    "No rescaling of the data is needed for this classifier, as it is of the logical type and does not rely on distances between features."
   ]
  },
  {
   "cell_type": "code",
   "execution_count": 18,
   "metadata": {},
   "outputs": [
    {
     "name": "stdout",
     "output_type": "stream",
     "text": [
      "DecisionTreeClassifier(class_weight=None, criterion='gini', max_depth=None,\n",
      "            max_features=None, max_leaf_nodes=None,\n",
      "            min_impurity_decrease=0.0, min_impurity_split=None,\n",
      "            min_samples_leaf=1, min_samples_split=2,\n",
      "            min_weight_fraction_leaf=0.0, presort=False, random_state=None,\n",
      "            splitter='best')\n"
     ]
    },
    {
     "data": {
      "text/html": [
       "<table border=\"1\" class=\"dataframe\">\n",
       "  <thead>\n",
       "    <tr style=\"text-align: right;\">\n",
       "      <th>features used</th>\n",
       "      <th>total predictions</th>\n",
       "      <th>accuracy</th>\n",
       "      <th>precision</th>\n",
       "      <th>recall</th>\n",
       "      <th>F1</th>\n",
       "    </tr>\n",
       "  </thead>\n",
       "  <tbody>\n",
       "    <tr>\n",
       "      <td>1</td>\n",
       "      <td>11000</td>\n",
       "      <td>0.862727</td>\n",
       "      <td>0.274336</td>\n",
       "      <td>0.3100</td>\n",
       "      <td>0.291080</td>\n",
       "    </tr>\n",
       "    <tr>\n",
       "      <td>2</td>\n",
       "      <td>13000</td>\n",
       "      <td>0.769231</td>\n",
       "      <td>0.220670</td>\n",
       "      <td>0.1975</td>\n",
       "      <td>0.208443</td>\n",
       "    </tr>\n",
       "    <tr>\n",
       "      <td>3</td>\n",
       "      <td>13000</td>\n",
       "      <td>0.801923</td>\n",
       "      <td>0.365087</td>\n",
       "      <td>0.3890</td>\n",
       "      <td>0.376664</td>\n",
       "    </tr>\n",
       "    <tr>\n",
       "      <td>4</td>\n",
       "      <td>13000</td>\n",
       "      <td>0.789231</td>\n",
       "      <td>0.322286</td>\n",
       "      <td>0.3355</td>\n",
       "      <td>0.328760</td>\n",
       "    </tr>\n",
       "    <tr>\n",
       "      <td>5</td>\n",
       "      <td>13000</td>\n",
       "      <td>0.782385</td>\n",
       "      <td>0.300433</td>\n",
       "      <td>0.3120</td>\n",
       "      <td>0.306107</td>\n",
       "    </tr>\n",
       "    <tr>\n",
       "      <td>6</td>\n",
       "      <td>14000</td>\n",
       "      <td>0.780429</td>\n",
       "      <td>0.258977</td>\n",
       "      <td>0.2885</td>\n",
       "      <td>0.272942</td>\n",
       "    </tr>\n",
       "    <tr>\n",
       "      <td>7</td>\n",
       "      <td>15000</td>\n",
       "      <td>0.796667</td>\n",
       "      <td>0.249762</td>\n",
       "      <td>0.2620</td>\n",
       "      <td>0.255735</td>\n",
       "    </tr>\n",
       "    <tr>\n",
       "      <td>8</td>\n",
       "      <td>15000</td>\n",
       "      <td>0.808800</td>\n",
       "      <td>0.293726</td>\n",
       "      <td>0.3090</td>\n",
       "      <td>0.301170</td>\n",
       "    </tr>\n",
       "    <tr>\n",
       "      <td>9</td>\n",
       "      <td>15000</td>\n",
       "      <td>0.808733</td>\n",
       "      <td>0.284581</td>\n",
       "      <td>0.2870</td>\n",
       "      <td>0.285785</td>\n",
       "    </tr>\n",
       "    <tr>\n",
       "      <td>10</td>\n",
       "      <td>15000</td>\n",
       "      <td>0.809533</td>\n",
       "      <td>0.286284</td>\n",
       "      <td>0.2870</td>\n",
       "      <td>0.286642</td>\n",
       "    </tr>\n",
       "    <tr>\n",
       "      <td>11</td>\n",
       "      <td>15000</td>\n",
       "      <td>0.800200</td>\n",
       "      <td>0.245533</td>\n",
       "      <td>0.2405</td>\n",
       "      <td>0.242991</td>\n",
       "    </tr>\n",
       "    <tr>\n",
       "      <td>12</td>\n",
       "      <td>15000</td>\n",
       "      <td>0.797733</td>\n",
       "      <td>0.223233</td>\n",
       "      <td>0.2085</td>\n",
       "      <td>0.215615</td>\n",
       "    </tr>\n",
       "    <tr>\n",
       "      <td>13</td>\n",
       "      <td>15000</td>\n",
       "      <td>0.794800</td>\n",
       "      <td>0.213298</td>\n",
       "      <td>0.2005</td>\n",
       "      <td>0.206701</td>\n",
       "    </tr>\n",
       "    <tr>\n",
       "      <td>14</td>\n",
       "      <td>15000</td>\n",
       "      <td>0.793467</td>\n",
       "      <td>0.206103</td>\n",
       "      <td>0.1925</td>\n",
       "      <td>0.199069</td>\n",
       "    </tr>\n",
       "    <tr>\n",
       "      <td>15</td>\n",
       "      <td>15000</td>\n",
       "      <td>0.795467</td>\n",
       "      <td>0.208197</td>\n",
       "      <td>0.1905</td>\n",
       "      <td>0.198956</td>\n",
       "    </tr>\n",
       "  </tbody>\n",
       "</table>"
      ],
      "text/plain": [
       "<IPython.core.display.HTML object>"
      ]
     },
     "metadata": {},
     "output_type": "display_data"
    },
    {
     "name": "stdout",
     "output_type": "stream",
     "text": [
      "execution time: 16.931 s\n"
     ]
    }
   ],
   "source": [
    "from sklearn.tree import DecisionTreeClassifier\n",
    "clf = DecisionTreeClassifier()\n",
    "\n",
    "from time import time\n",
    "t0 = time()\n",
    "scores, features = my_tools.tune_k(data_dict, features_list, clf)\n",
    "\n",
    "print clf\n",
    "from IPython.display import display, HTML\n",
    "display(HTML(scores.to_html(index=False)))\n",
    "print \"execution time:\", round(time()-t0, 3), \"s\""
   ]
  },
  {
   "cell_type": "markdown",
   "metadata": {},
   "source": [
    "The best F1-score was found for the top 3 features again. Accuracy, precision and recall, as well as execution time are good, if not quite as good as for Naive Bayes."
   ]
  },
  {
   "cell_type": "markdown",
   "metadata": {},
   "source": [
    "## Support Vector Machine - SVM\n",
    "In order to get any true positives at all, the C-paramter needed to be tuned from the standard setting to a higher number. This comes at a cost in the form of execution time.\n",
    "\n",
    "The classifier is run on the rescaled data set, because it is of the type that relies on minimizing distances. Rescaling is needed in order to prevent the results being biased."
   ]
  },
  {
   "cell_type": "code",
   "execution_count": 19,
   "metadata": {},
   "outputs": [
    {
     "name": "stdout",
     "output_type": "stream",
     "text": [
      "SVC(C=20, cache_size=200, class_weight=None, coef0=0.0,\n",
      "  decision_function_shape='ovr', degree=3, gamma='auto', kernel='rbf',\n",
      "  max_iter=-1, probability=False, random_state=42, shrinking=True,\n",
      "  tol=0.001, verbose=False)\n"
     ]
    },
    {
     "data": {
      "text/html": [
       "<table border=\"1\" class=\"dataframe\">\n",
       "  <thead>\n",
       "    <tr style=\"text-align: right;\">\n",
       "      <th>features used</th>\n",
       "      <th>total predictions</th>\n",
       "      <th>accuracy</th>\n",
       "      <th>precision</th>\n",
       "      <th>recall</th>\n",
       "      <th>F1</th>\n",
       "    </tr>\n",
       "  </thead>\n",
       "  <tbody>\n",
       "    <tr>\n",
       "      <td>1</td>\n",
       "      <td>11000</td>\n",
       "      <td>0.916091</td>\n",
       "      <td>0.637993</td>\n",
       "      <td>0.1780</td>\n",
       "      <td>0.278342</td>\n",
       "    </tr>\n",
       "    <tr>\n",
       "      <td>2</td>\n",
       "      <td>13000</td>\n",
       "      <td>0.854462</td>\n",
       "      <td>0.664634</td>\n",
       "      <td>0.1090</td>\n",
       "      <td>0.187285</td>\n",
       "    </tr>\n",
       "    <tr>\n",
       "      <td>3</td>\n",
       "      <td>13000</td>\n",
       "      <td>0.855385</td>\n",
       "      <td>0.712766</td>\n",
       "      <td>0.1005</td>\n",
       "      <td>0.176161</td>\n",
       "    </tr>\n",
       "    <tr>\n",
       "      <td>4</td>\n",
       "      <td>13000</td>\n",
       "      <td>0.853231</td>\n",
       "      <td>0.828571</td>\n",
       "      <td>0.0580</td>\n",
       "      <td>0.108411</td>\n",
       "    </tr>\n",
       "    <tr>\n",
       "      <td>5</td>\n",
       "      <td>13000</td>\n",
       "      <td>0.851462</td>\n",
       "      <td>0.751825</td>\n",
       "      <td>0.0515</td>\n",
       "      <td>0.096397</td>\n",
       "    </tr>\n",
       "    <tr>\n",
       "      <td>6</td>\n",
       "      <td>14000</td>\n",
       "      <td>0.861286</td>\n",
       "      <td>0.695946</td>\n",
       "      <td>0.0515</td>\n",
       "      <td>0.095903</td>\n",
       "    </tr>\n",
       "    <tr>\n",
       "      <td>7</td>\n",
       "      <td>15000</td>\n",
       "      <td>0.869800</td>\n",
       "      <td>0.674074</td>\n",
       "      <td>0.0455</td>\n",
       "      <td>0.085246</td>\n",
       "    </tr>\n",
       "    <tr>\n",
       "      <td>8</td>\n",
       "      <td>15000</td>\n",
       "      <td>0.867733</td>\n",
       "      <td>0.570175</td>\n",
       "      <td>0.0325</td>\n",
       "      <td>0.061495</td>\n",
       "    </tr>\n",
       "    <tr>\n",
       "      <td>9</td>\n",
       "      <td>15000</td>\n",
       "      <td>0.866000</td>\n",
       "      <td>0.434211</td>\n",
       "      <td>0.0165</td>\n",
       "      <td>0.031792</td>\n",
       "    </tr>\n",
       "    <tr>\n",
       "      <td>10</td>\n",
       "      <td>15000</td>\n",
       "      <td>0.868067</td>\n",
       "      <td>0.612903</td>\n",
       "      <td>0.0285</td>\n",
       "      <td>0.054467</td>\n",
       "    </tr>\n",
       "    <tr>\n",
       "      <td>11</td>\n",
       "      <td>15000</td>\n",
       "      <td>0.868000</td>\n",
       "      <td>0.602041</td>\n",
       "      <td>0.0295</td>\n",
       "      <td>0.056244</td>\n",
       "    </tr>\n",
       "    <tr>\n",
       "      <td>12</td>\n",
       "      <td>15000</td>\n",
       "      <td>0.871067</td>\n",
       "      <td>0.742647</td>\n",
       "      <td>0.0505</td>\n",
       "      <td>0.094569</td>\n",
       "    </tr>\n",
       "    <tr>\n",
       "      <td>13</td>\n",
       "      <td>15000</td>\n",
       "      <td>0.869733</td>\n",
       "      <td>0.653333</td>\n",
       "      <td>0.0490</td>\n",
       "      <td>0.091163</td>\n",
       "    </tr>\n",
       "    <tr>\n",
       "      <td>14</td>\n",
       "      <td>15000</td>\n",
       "      <td>0.867933</td>\n",
       "      <td>0.554913</td>\n",
       "      <td>0.0480</td>\n",
       "      <td>0.088357</td>\n",
       "    </tr>\n",
       "    <tr>\n",
       "      <td>15</td>\n",
       "      <td>15000</td>\n",
       "      <td>0.867533</td>\n",
       "      <td>0.536313</td>\n",
       "      <td>0.0480</td>\n",
       "      <td>0.088114</td>\n",
       "    </tr>\n",
       "  </tbody>\n",
       "</table>"
      ],
      "text/plain": [
       "<IPython.core.display.HTML object>"
      ]
     },
     "metadata": {},
     "output_type": "display_data"
    },
    {
     "name": "stdout",
     "output_type": "stream",
     "text": [
      "execution time: 22.208 s\n"
     ]
    }
   ],
   "source": [
    "from sklearn.svm import SVC\n",
    "clf = SVC(kernel='rbf',C=20,random_state=42)\n",
    "\n",
    "data_dict = my_tools.rescale_data_dict(data_dict, features_list)\n",
    "\n",
    "from time import time\n",
    "t0 = time()\n",
    "scores, features = my_tools.tune_k(data_dict, features_list, clf)\n",
    "\n",
    "print clf\n",
    "from IPython.display import display, HTML\n",
    "display(HTML(scores.to_html(index=False)))\n",
    "print \"execution time:\", round(time()-t0, 3), \"s\""
   ]
  },
  {
   "cell_type": "markdown",
   "metadata": {},
   "source": [
    "The classifier basically relies on only one feature, the exercised stock options. Accuracy and precisionlook excellent, but recall is poor and not sufficient, according to the required minimum of 0.3."
   ]
  },
  {
   "cell_type": "markdown",
   "metadata": {},
   "source": [
    "## K-Nearest Neighbors\n",
    "The number of nearest beighbors was tuned by hand. The best result was found, when using n_neighbors=3. At higher numbers, no true positives could be computed. Lower numbers resulted in poor scores.\n",
    "\n",
    "The classifier is run on the rescaled data set, because it is of the type that relies on similarities. Rescaling is needed in order to prevent the results being biased."
   ]
  },
  {
   "cell_type": "code",
   "execution_count": 20,
   "metadata": {},
   "outputs": [
    {
     "name": "stdout",
     "output_type": "stream",
     "text": [
      "KNeighborsClassifier(algorithm='auto', leaf_size=30, metric='minkowski',\n",
      "           metric_params=None, n_jobs=1, n_neighbors=3, p=2,\n",
      "           weights='uniform')\n"
     ]
    },
    {
     "data": {
      "text/html": [
       "<table border=\"1\" class=\"dataframe\">\n",
       "  <thead>\n",
       "    <tr style=\"text-align: right;\">\n",
       "      <th>features used</th>\n",
       "      <th>total predictions</th>\n",
       "      <th>accuracy</th>\n",
       "      <th>precision</th>\n",
       "      <th>recall</th>\n",
       "      <th>F1</th>\n",
       "    </tr>\n",
       "  </thead>\n",
       "  <tbody>\n",
       "    <tr>\n",
       "      <td>1</td>\n",
       "      <td>11000</td>\n",
       "      <td>0.883818</td>\n",
       "      <td>0.272131</td>\n",
       "      <td>0.1660</td>\n",
       "      <td>0.206211</td>\n",
       "    </tr>\n",
       "    <tr>\n",
       "      <td>2</td>\n",
       "      <td>13000</td>\n",
       "      <td>0.849769</td>\n",
       "      <td>0.533911</td>\n",
       "      <td>0.1850</td>\n",
       "      <td>0.274786</td>\n",
       "    </tr>\n",
       "    <tr>\n",
       "      <td>3</td>\n",
       "      <td>13000</td>\n",
       "      <td>0.861769</td>\n",
       "      <td>0.601805</td>\n",
       "      <td>0.3000</td>\n",
       "      <td>0.400400</td>\n",
       "    </tr>\n",
       "    <tr>\n",
       "      <td>4</td>\n",
       "      <td>13000</td>\n",
       "      <td>0.843692</td>\n",
       "      <td>0.486667</td>\n",
       "      <td>0.2920</td>\n",
       "      <td>0.365000</td>\n",
       "    </tr>\n",
       "    <tr>\n",
       "      <td>5</td>\n",
       "      <td>13000</td>\n",
       "      <td>0.839846</td>\n",
       "      <td>0.435331</td>\n",
       "      <td>0.1380</td>\n",
       "      <td>0.209567</td>\n",
       "    </tr>\n",
       "    <tr>\n",
       "      <td>6</td>\n",
       "      <td>14000</td>\n",
       "      <td>0.847357</td>\n",
       "      <td>0.379613</td>\n",
       "      <td>0.1080</td>\n",
       "      <td>0.168159</td>\n",
       "    </tr>\n",
       "    <tr>\n",
       "      <td>7</td>\n",
       "      <td>15000</td>\n",
       "      <td>0.852600</td>\n",
       "      <td>0.260771</td>\n",
       "      <td>0.0575</td>\n",
       "      <td>0.094224</td>\n",
       "    </tr>\n",
       "    <tr>\n",
       "      <td>8</td>\n",
       "      <td>15000</td>\n",
       "      <td>0.852600</td>\n",
       "      <td>0.347763</td>\n",
       "      <td>0.1205</td>\n",
       "      <td>0.178983</td>\n",
       "    </tr>\n",
       "    <tr>\n",
       "      <td>9</td>\n",
       "      <td>15000</td>\n",
       "      <td>0.846400</td>\n",
       "      <td>0.332230</td>\n",
       "      <td>0.1505</td>\n",
       "      <td>0.207158</td>\n",
       "    </tr>\n",
       "    <tr>\n",
       "      <td>10</td>\n",
       "      <td>15000</td>\n",
       "      <td>0.851800</td>\n",
       "      <td>0.366467</td>\n",
       "      <td>0.1530</td>\n",
       "      <td>0.215873</td>\n",
       "    </tr>\n",
       "    <tr>\n",
       "      <td>11</td>\n",
       "      <td>15000</td>\n",
       "      <td>0.835400</td>\n",
       "      <td>0.169252</td>\n",
       "      <td>0.0600</td>\n",
       "      <td>0.088594</td>\n",
       "    </tr>\n",
       "    <tr>\n",
       "      <td>12</td>\n",
       "      <td>15000</td>\n",
       "      <td>0.840200</td>\n",
       "      <td>0.188383</td>\n",
       "      <td>0.0600</td>\n",
       "      <td>0.091013</td>\n",
       "    </tr>\n",
       "    <tr>\n",
       "      <td>13</td>\n",
       "      <td>15000</td>\n",
       "      <td>0.842933</td>\n",
       "      <td>0.257493</td>\n",
       "      <td>0.0945</td>\n",
       "      <td>0.138259</td>\n",
       "    </tr>\n",
       "    <tr>\n",
       "      <td>14</td>\n",
       "      <td>15000</td>\n",
       "      <td>0.850600</td>\n",
       "      <td>0.305331</td>\n",
       "      <td>0.0945</td>\n",
       "      <td>0.144330</td>\n",
       "    </tr>\n",
       "    <tr>\n",
       "      <td>15</td>\n",
       "      <td>15000</td>\n",
       "      <td>0.851333</td>\n",
       "      <td>0.310855</td>\n",
       "      <td>0.0945</td>\n",
       "      <td>0.144939</td>\n",
       "    </tr>\n",
       "  </tbody>\n",
       "</table>"
      ],
      "text/plain": [
       "<IPython.core.display.HTML object>"
      ]
     },
     "metadata": {},
     "output_type": "display_data"
    },
    {
     "name": "stdout",
     "output_type": "stream",
     "text": [
      "execution time: 29.824 s\n"
     ]
    }
   ],
   "source": [
    "from sklearn.neighbors import KNeighborsClassifier\n",
    "clf = KNeighborsClassifier(n_neighbors=3, algorithm='auto')\n",
    "\n",
    "data_dict = my_tools.rescale_data_dict(data_dict, features_list)   \n",
    "\n",
    "from time import time\n",
    "t0 = time()\n",
    "scores, features = my_tools.tune_k(data_dict, features_list, clf)\n",
    "\n",
    "print clf\n",
    "from IPython.display import display, HTML\n",
    "display(HTML(scores.to_html(index=False)))\n",
    "print \"execution time:\", round(time()-t0, 3), \"s\""
   ]
  },
  {
   "cell_type": "markdown",
   "metadata": {},
   "source": [
    "The best F1-score at approximately 0.40 is found, when using the top 3 features. Accuracy, precision and recall are really good, when compared to the other classifiers tested.\n",
    "\n",
    "Precision and recall are both above 0.3 as required.\n",
    "\n",
    "The execution time is acceptable, if notably slower than for the Naive Bayes classifier."
   ]
  },
  {
   "cell_type": "markdown",
   "metadata": {},
   "source": [
    "# Summary\n",
    "The project goal was to find a suitable classifier to find persons of interest in a data set containing financial and communications data about a spectacular fraud case, the [Enron Scandal](https://de.wikipedia.org/wiki/Enron).\n",
    "\n",
    "The dataset was analysed, statistics derived, obvious outliers determined and removed. Subsequently, a new feature, which could be interesting for determination of persons of interest, was defined. Feature reduction was done by hand following availability considerations. [SelectKBest](http://scikit-learn.org/stable/modules/generated/sklearn.feature_selection.SelectKBest.html) from the sklearn package was used to determine the most useful features to be used for the classifiers. Four different classifiers from two different classes were tried and tuned in order to find a well suited classifier for the task. Rescaling of the data was performed when necessary.\n",
    "\n",
    "It turns out that we have two classifiers that fulfil the requirement of precision and recall greater than 0.3. The two are the [GaussianNB](http://scikit-learn.org/stable/modules/generated/sklearn.naive_bayes.GaussianNB.html), a Naive Bayes algorithm of the graphical type and [K-Nearest Neighbor](http://scikit-learn.org/stable/modules/generated/sklearn.neighbors.KNeighborsClassifier.html), an algorithm that relies on similarities. The scores for the best three features are as follows:\n",
    "\n",
    "| classifier     | accuracy | precision | recall | F1-score\n",
    "| --:           | --:                | --:      | --:       | --:\n",
    "| GaussianNB | 0.84                  | 0.49     |0.35      | 0.41\n",
    "| K-Nearest Neighbors   | 0.86                  | 0.60     | 0.30      | 0.40\n",
    "\n",
    "The slightly better F1-score and the much faster execution time make the Naive Bayes classifier (GaussianNB) the classifier of choice for the problem.\n",
    "\n",
    "The precision of roughly 0.5 means, that five out of 10 reported POIs are actually involved in the fraud. The recall of roughly 0.4 means, that four out of 10 actual POIs will be determined. "
   ]
  }
 ],
 "metadata": {
  "kernelspec": {
   "display_name": "Python 2",
   "language": "python",
   "name": "python2"
  },
  "language_info": {
   "codemirror_mode": {
    "name": "ipython",
    "version": 2
   },
   "file_extension": ".py",
   "mimetype": "text/x-python",
   "name": "python",
   "nbconvert_exporter": "python",
   "pygments_lexer": "ipython2",
   "version": "2.7.14"
  },
  "toc": {
   "nav_menu": {},
   "number_sections": true,
   "sideBar": true,
   "skip_h1_title": false,
   "title_cell": "Table of Contents",
   "title_sidebar": "Contents",
   "toc_cell": false,
   "toc_position": {},
   "toc_section_display": true,
   "toc_window_display": true
  }
 },
 "nbformat": 4,
 "nbformat_minor": 2
}
